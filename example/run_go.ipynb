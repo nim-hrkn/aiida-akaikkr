{
 "cells": [
  {
   "cell_type": "code",
   "execution_count": null,
   "id": "c0df1120",
   "metadata": {},
   "outputs": [],
   "source": [
    "from aiida import load_profile \n",
    "profile =  load_profile()"
   ]
  },
  {
   "cell_type": "code",
   "execution_count": null,
   "id": "e9cbb68f",
   "metadata": {},
   "outputs": [],
   "source": [
    "from aiida.orm import Str, Dict, Bool, load_node, Float\n",
    "from aiida.engine import calcfunction\n",
    "from akaikkr_testscript import get_kkr_struc_from_cif, change_atomic_type\n",
    "from pyakaikkr import AkaikkrJob, make_displc_list\n",
    "import os\n",
    "from aiida.engine import run, submit\n",
    "from tools.aiida_support import wait_for_node_finished\n",
    "from aiida.plugins import DataFactory\n",
    "from aiida.orm import load_code\n",
    "import matplotlib.pyplot as plt\n",
    "import pandas as pd\n",
    "\n",
    "ArrayData = DataFactory('array')\n"
   ]
  },
  {
   "cell_type": "code",
   "execution_count": null,
   "id": "4c71b143",
   "metadata": {},
   "outputs": [],
   "source": [
    "# parameters\n",
    "SPECX =  Str(\"/home/max/Documents/akaikkr/AkaiKKRprogram.2022.0721.ifort/akaikkr_cnd/specx\")\n",
    "CIFFILEPATH = Str(\"structure/Fe-Im3m.cif\")\n",
    "DISPLC = Bool(True)"
   ]
  },
  {
   "cell_type": "code",
   "execution_count": null,
   "id": "70d1d36e",
   "metadata": {
    "scrolled": false
   },
   "outputs": [],
   "source": [
    "@calcfunction\n",
    "def _structure_param(\n",
    "        akaikkr_exe: Dict, displc: Bool, ciffilepath: Str\n",
    "        ) -> dict:\n",
    "    \"\"\"define Cu common kkr parameters\n",
    "\n",
    "    internal options:\n",
    "        use_bravais (bool, optional): use bravias in the akaikkr format. Defaults to True.\n",
    "        remove_temperaryfiles (bool, optional): remove temporary files after executing geometry by specx. Defaults to False.\n",
    "        directory (str, optional): directory to place input and output files in getting geometry. Defaults to \"temporary\".\n",
    "\n",
    "\n",
    "    Args:\n",
    "        akaikkr_exe (Dict): specx and fmg\n",
    "        displc (Bool): include displc or not. True if akaikkr_cnd.\n",
    "        ciffilepath (Str, optional): cif file name. Defaults to \"../structure/Cu-Fm3m.cif\".\n",
    "\n",
    "    Returns:\n",
    "        dict: kkr input parameters\n",
    "    \"\"\"\n",
    "    use_bravais=True\n",
    "    remove_temperaryfiles=True,\n",
    "    directory=\"temporary\"\n",
    "    \n",
    "    ciffilepath = ciffilepath.value\n",
    "    akaikkr_exe = akaikkr_exe.get_dict()\n",
    "    displc = displc.value\n",
    "    param = get_kkr_struc_from_cif(\n",
    "        ciffilepath=ciffilepath, akaikkr_exe=akaikkr_exe[\"specx\"], displc=displc,\n",
    "        use_bravais=use_bravais, remove_temperaryfiles=remove_temperaryfiles,\n",
    "        directory=directory)\n",
    "    \n",
    "    # param[\"a\"] = 6.82\n",
    "\n",
    "    # to compare the results with reference\n",
    "    # param = change_atomic_type(param, {\"Cu_4a_0\": \"Cu\"})\n",
    "    \n",
    "\n",
    "    if displc:\n",
    "        param[\"displc\"] = make_displc_list(param[\"anclr\"])    \n",
    "\n",
    "    return Dict(dict=param)\n",
    "\n",
    "akaikkr_exe = {}\n",
    "akaikkr_exe[\"specx\"] = SPECX\n",
    "akaikkr_exe = Dict(dict=akaikkr_exe)\n",
    "kkr_structure_param = _structure_param(akaikkr_exe, DISPLC, CIFFILEPATH)\n",
    "kkr_structure_param.get_dict()"
   ]
  },
  {
   "cell_type": "code",
   "execution_count": null,
   "id": "d36cb082",
   "metadata": {},
   "outputs": [],
   "source": [
    "magtype = Str(\"mag\")"
   ]
  },
  {
   "cell_type": "markdown",
   "id": "7e733b23",
   "metadata": {},
   "source": [
    "# Go"
   ]
  },
  {
   "cell_type": "code",
   "execution_count": null,
   "id": "aa97f066",
   "metadata": {},
   "outputs": [],
   "source": [
    "@calcfunction\n",
    "def _Fe_go_params(record:Str):\n",
    "    directory = \"dummy\"\n",
    "    job = AkaikkrJob(directory)\n",
    "    kkr_param = job.default\n",
    "    kkr_param[\"record\"] = record\n",
    "    return Dict(dict=kkr_param)\n",
    "\n",
    "kkr_param = _Fe_go_params(Str(\"init\"))"
   ]
  },
  {
   "cell_type": "code",
   "execution_count": null,
   "id": "24a2f4bb",
   "metadata": {},
   "outputs": [],
   "source": [
    "code = load_code('akaikkr_go_calcjob_localhost')\n",
    "code"
   ]
  },
  {
   "cell_type": "code",
   "execution_count": null,
   "id": "92047595",
   "metadata": {
    "scrolled": false
   },
   "outputs": [],
   "source": [
    "builder = code.get_builder()\n",
    "builder.go = Str(\"go\")\n",
    "builder.magtype = magtype\n",
    "builder.displc = DISPLC\n",
    "builder.structure = kkr_structure_param\n",
    "builder.parameters = kkr_param\n",
    "gofuture = submit(builder)\n",
    "print(gofuture)\n",
    "wait_for_node_finished(gofuture)"
   ]
  },
  {
   "cell_type": "code",
   "execution_count": null,
   "id": "8aed880e",
   "metadata": {},
   "outputs": [],
   "source": [
    "gofuture.outputs.structure.get_ase()"
   ]
  },
  {
   "cell_type": "code",
   "execution_count": null,
   "id": "4d8a9bc3",
   "metadata": {
    "scrolled": false
   },
   "outputs": [],
   "source": [
    "gofuture.outputs.retrieved.list_object_names()"
   ]
  },
  {
   "cell_type": "code",
   "execution_count": null,
   "id": "caea6887",
   "metadata": {},
   "outputs": [],
   "source": [
    "gofuture.outputs.remote_folder.listdir()"
   ]
  },
  {
   "cell_type": "code",
   "execution_count": null,
   "id": "e963f84f",
   "metadata": {},
   "outputs": [],
   "source": [
    "gofuture.outputs.structure"
   ]
  },
  {
   "cell_type": "code",
   "execution_count": null,
   "id": "16c3f836",
   "metadata": {},
   "outputs": [],
   "source": [
    "potential = gofuture.outputs.potential\n",
    "potential"
   ]
  },
  {
   "cell_type": "markdown",
   "id": "d02c1ae4",
   "metadata": {},
   "source": [
    "# 2nd Go with remote potential"
   ]
  },
  {
   "cell_type": "code",
   "execution_count": null,
   "id": "22dfdf30",
   "metadata": {},
   "outputs": [],
   "source": [
    "kkr_param = _Fe_go_params(Str(\"2nd\"))"
   ]
  },
  {
   "cell_type": "code",
   "execution_count": null,
   "id": "7e93fc20",
   "metadata": {},
   "outputs": [],
   "source": [
    "remotepotential = gofuture.outputs.remote_folder"
   ]
  },
  {
   "cell_type": "code",
   "execution_count": null,
   "id": "1ad1f881",
   "metadata": {},
   "outputs": [],
   "source": [
    "remotepotential.computer"
   ]
  },
  {
   "cell_type": "code",
   "execution_count": null,
   "id": "ef80f9d9",
   "metadata": {
    "scrolled": false
   },
   "outputs": [],
   "source": [
    "builder = code.get_builder()\n",
    "builder.go = Str(\"go\")\n",
    "builder.magtype = magtype\n",
    "builder.displc = DISPLC\n",
    "builder.structure = kkr_structure_param\n",
    "builder.parameters = kkr_param\n",
    "builder.potential = remotepotential\n",
    "gofuture2nd = submit(builder)\n",
    "print(gofuture2nd)\n",
    "wait_for_node_finished(gofuture2nd)"
   ]
  },
  {
   "cell_type": "code",
   "execution_count": null,
   "id": "5b83c767",
   "metadata": {},
   "outputs": [],
   "source": [
    "gofuture2nd.outputs.results.get_dict()"
   ]
  },
  {
   "cell_type": "markdown",
   "id": "efad97f8",
   "metadata": {},
   "source": [
    "# 2nd Go with local potential"
   ]
  },
  {
   "cell_type": "code",
   "execution_count": null,
   "id": "bc49197d",
   "metadata": {},
   "outputs": [],
   "source": [
    "kkr_param = _Fe_go_params(Str(\"2nd\"))\n",
    "potential = gofuture.outputs.potential\n",
    "potential"
   ]
  },
  {
   "cell_type": "code",
   "execution_count": null,
   "id": "e4d34e3d",
   "metadata": {
    "scrolled": false
   },
   "outputs": [],
   "source": [
    "builder = code.get_builder()\n",
    "builder.go = Str(\"go\")\n",
    "builder.magtype = magtype\n",
    "builder.displc = DISPLC\n",
    "builder.structure = kkr_structure_param\n",
    "builder.parameters = kkr_param\n",
    "builder.potential = potential\n",
    "gofuture2nd = submit(builder)\n",
    "print(gofuture2nd)\n",
    "wait_for_node_finished(gofuture2nd)"
   ]
  },
  {
   "cell_type": "code",
   "execution_count": null,
   "id": "84e6844f",
   "metadata": {},
   "outputs": [],
   "source": [
    "gofuture2nd.outputs.results.get_dict()"
   ]
  },
  {
   "cell_type": "code",
   "execution_count": null,
   "id": "a9a05dcd",
   "metadata": {},
   "outputs": [],
   "source": [
    "gofuture2nd.pk"
   ]
  },
  {
   "cell_type": "code",
   "execution_count": null,
   "id": "ff3d3105",
   "metadata": {},
   "outputs": [],
   "source": [
    "!verdi node graph generate $gofuture2nd.pk"
   ]
  },
  {
   "cell_type": "code",
   "execution_count": null,
   "id": "d123ee6e",
   "metadata": {},
   "outputs": [],
   "source": [
    "from wand.image import Image as WImage\n",
    "img = WImage(filename=f'{gofuture2nd.pk}.dot.pdf')\n",
    "img"
   ]
  },
  {
   "cell_type": "markdown",
   "id": "fbd1bdd6",
   "metadata": {},
   "source": [
    "# Dos"
   ]
  },
  {
   "cell_type": "raw",
   "id": "03bde911",
   "metadata": {},
   "source": [
    "future = load_node()\n",
    "potential = future.outputs.potential"
   ]
  },
  {
   "cell_type": "code",
   "execution_count": null,
   "id": "e65549f2",
   "metadata": {},
   "outputs": [],
   "source": [
    "@calcfunction\n",
    "def _Cu_dos_params():\n",
    "    directory = \"dummy\"\n",
    "    job = AkaikkrJob(directory)\n",
    "    kkr_param = job.default\n",
    "    kkr_param[\"record\"] = \"2nd\"\n",
    "    kkr_param[\"ewidth\"] = 2.0\n",
    "    return Dict(dict=kkr_param)\n",
    "\n",
    "def _Fe_dos_params():\n",
    "    directory = \"dummy\"\n",
    "    job = AkaikkrJob(directory)\n",
    "    kkr_param = job.default\n",
    "    kkr_param[\"record\"] = \"2nd\"\n",
    "    kkr_param[\"ewidth\"] = 2.0\n",
    "    return Dict(dict=kkr_param)\n",
    "\n",
    "kkr_param = _Fe_dos_params()"
   ]
  },
  {
   "cell_type": "code",
   "execution_count": null,
   "id": "ec63f67a",
   "metadata": {
    "scrolled": false
   },
   "outputs": [],
   "source": [
    "code = load_code('akaikkr_dos_calcjob_localhost')\n",
    "\n",
    "builder = code.get_builder()\n",
    "builder.go = Str(\"dos\")\n",
    "builder.magtype = magtype\n",
    "builder.displc = DISPLC\n",
    "builder.structure = kkr_structure_param\n",
    "builder.parameters = kkr_param\n",
    "builder.potential = potential\n",
    "dosfuture = submit(builder)\n",
    "print(dosfuture)\n",
    "wait_for_node_finished(dosfuture)"
   ]
  },
  {
   "cell_type": "code",
   "execution_count": null,
   "id": "bcaeeb93",
   "metadata": {},
   "outputs": [],
   "source": [
    "dosfuture.outputs.results.get_dict()['type_of_site']"
   ]
  },
  {
   "cell_type": "code",
   "execution_count": null,
   "id": "eaa632be",
   "metadata": {},
   "outputs": [],
   "source": [
    "dos = dosfuture.outputs.dos\n",
    "dos.attributes"
   ]
  },
  {
   "cell_type": "code",
   "execution_count": null,
   "id": "fe727cb0",
   "metadata": {},
   "outputs": [],
   "source": [
    "def dos_to_arrays(dosdata: ArrayData):\n",
    "    energy = dosdata.get_array('energy')\n",
    "    dos = dosdata.get_array('dos')    \n",
    "    return energy, dos\n",
    "\n",
    "energy, dos = dos_to_arrays(dosfuture.outputs.dos)\n",
    "plt.plot(energy, dos[0])\n",
    "plt.plot(energy, dos[1])"
   ]
  },
  {
   "cell_type": "code",
   "execution_count": null,
   "id": "65418d83",
   "metadata": {},
   "outputs": [],
   "source": [
    "def pdos_to_arrays(pdos: ArrayData):\n",
    "    pdos_energy = pdos.get_array('energy')\n",
    "    pdos_value = pdos.get_array('pdos')\n",
    "    return pdos_energy, pdos_value\n",
    "\n",
    "pdos_energy, pdos_value = pdos_to_arrays(dosfuture.outputs.pdos)\n",
    "for i in range(pdos_value.shape[3]):\n",
    "    plt.plot(pdos_energy, pdos_value[0,0,:,i])\n"
   ]
  },
  {
   "cell_type": "markdown",
   "id": "fe408519",
   "metadata": {},
   "source": [
    "# spc"
   ]
  },
  {
   "cell_type": "code",
   "execution_count": null,
   "id": "86fdcb91",
   "metadata": {},
   "outputs": [],
   "source": [
    "structure_data = gofuture2nd.outputs.structure"
   ]
  },
  {
   "cell_type": "code",
   "execution_count": null,
   "id": "a55b8700",
   "metadata": {},
   "outputs": [],
   "source": [
    "@calcfunction\n",
    "def _Cu_spc_params():\n",
    "    directory = \"dummy\"\n",
    "    job = AkaikkrJob(directory)\n",
    "    kkr_param = job.default\n",
    "    kkr_param[\"record\"] = \"2nd\"\n",
    "    kkr_param[\"magtyp\"] = \"nmag\"\n",
    "    kkr_param[\"ewidth\"] = 2.0\n",
    "    return Dict(dict=kkr_param)\n",
    "\n",
    "def _Fe_spc_params():\n",
    "    directory = \"dummy\"\n",
    "    job = AkaikkrJob(directory)\n",
    "    kkr_param = job.default\n",
    "    kkr_param[\"record\"] = \"2nd\"\n",
    "    kkr_param[\"magtyp\"] = \"mag\"\n",
    "    kkr_param[\"ewidth\"] = 2.0\n",
    "    return Dict(dict=kkr_param)\n",
    "\n",
    "kkr_param = _Fe_spc_params()"
   ]
  },
  {
   "cell_type": "code",
   "execution_count": null,
   "id": "652bbda0",
   "metadata": {
    "scrolled": false
   },
   "outputs": [],
   "source": [
    "code = load_code('akaikkr_spc_calcjob_localhost')\n",
    "\n",
    "builder = code.get_builder()\n",
    "builder.magtype = magtype\n",
    "builder.displc = DISPLC\n",
    "builder.structure = kkr_structure_param\n",
    "builder.parameters = kkr_param\n",
    "builder.potential = potential\n",
    "builder.structure_data = structure_data\n",
    "\n",
    "spcfuture = submit(builder)\n",
    "print(spcfuture)\n",
    "wait_for_node_finished(spcfuture)"
   ]
  },
  {
   "cell_type": "markdown",
   "id": "d3011cfa",
   "metadata": {},
   "source": []
  },
  {
   "cell_type": "markdown",
   "id": "3252bfec",
   "metadata": {},
   "source": [
    "# A(w,k) plot"
   ]
  },
  {
   "cell_type": "code",
   "execution_count": null,
   "id": "bf4407d6",
   "metadata": {},
   "outputs": [],
   "source": [
    "Awk_up = spcfuture.outputs.Awk_up\n",
    "Awk_dn = spcfuture.outputs.Awk_dn\n",
    "\n",
    "klabeldict = spcfuture.outputs.klabel.get_dict()"
   ]
  },
  {
   "cell_type": "code",
   "execution_count": null,
   "id": "5f0316bb",
   "metadata": {},
   "outputs": [],
   "source": [
    "klabel = []\n",
    "for vpath in klabeldict[\"kpath\"]:\n",
    "    for v in vpath:\n",
    "        k = str(list(v.keys())[0])\n",
    "        k = \"$\"+k+r\"$\"\n",
    "        klabel.append(k)\n",
    "klabel"
   ]
  },
  {
   "cell_type": "code",
   "execution_count": null,
   "id": "2d7b4eae",
   "metadata": {},
   "outputs": [],
   "source": [
    "with Awk_up.open(Awk_up.filename) as handle:\n",
    "    from pyakaikkr import AwkReader\n",
    "    awk_up = AwkReader(handle)\n",
    "with Awk_dn.open(Awk_dn.filename) as handle:\n",
    "    from pyakaikkr import AwkReader\n",
    "    awk_dn = AwkReader(handle)"
   ]
  },
  {
   "cell_type": "code",
   "execution_count": null,
   "id": "668d9857",
   "metadata": {},
   "outputs": [],
   "source": [
    "from pyakaikkr import AwkPlotter\n",
    "import matplotlib.pyplot as plt\n",
    "%matplotlib inline\n",
    "awkplotter = AwkPlotter(\".\")\n",
    "fig, axes = plt.subplots(1,2)\n",
    "for awk,ax in zip([awk_up, awk_dn], axes):\n",
    "    awkplotter.make(awk.kcrt, awk.Awk, awk.kdist, awk.energy, klabel, ax=ax)\n",
    "fig.show()"
   ]
  },
  {
   "cell_type": "code",
   "execution_count": null,
   "id": "7fc362e6",
   "metadata": {},
   "outputs": [],
   "source": [
    "!verdi node graph generate $spcfuture.pk\n",
    "from wand.image import Image as WImage\n",
    "img = WImage(filename=f'{spcfuture.pk}.dot.pdf')\n",
    "img"
   ]
  },
  {
   "cell_type": "markdown",
   "id": "6c9df6d3",
   "metadata": {},
   "source": [
    "# Jij"
   ]
  },
  {
   "cell_type": "code",
   "execution_count": null,
   "id": "3aaa9c62",
   "metadata": {},
   "outputs": [],
   "source": [
    "future = gofuture2nd\n",
    "potential = future.outputs.potential\n",
    "structure_data = future.outputs.structure\n"
   ]
  },
  {
   "cell_type": "code",
   "execution_count": null,
   "id": "cbe4f6b4",
   "metadata": {},
   "outputs": [],
   "source": [
    "@calcfunction\n",
    "def _Fe_jij_params():\n",
    "    directory = \"dummy\"\n",
    "    job = AkaikkrJob(directory)\n",
    "    kkr_param = job.default\n",
    "    kkr_param[\"record\"] = \"2nd\"\n",
    "    kkr_param[\"ewidth\"] = 2.0\n",
    "    return Dict(dict=kkr_param)\n",
    "\n",
    "kkr_param = _Fe_jij_params()"
   ]
  },
  {
   "cell_type": "code",
   "execution_count": null,
   "id": "919d4a2e",
   "metadata": {
    "scrolled": false
   },
   "outputs": [],
   "source": [
    "code = load_code('akaikkr_jij_calcjob_localhost')\n",
    "\n",
    "builder = code.get_builder()\n",
    "builder.magtype = magtype\n",
    "\n",
    "builder.displc = DISPLC\n",
    "builder.structure = kkr_structure_param\n",
    "builder.parameters = kkr_param\n",
    "builder.potential = potential\n",
    "\n",
    "spcfuture = submit(builder)\n",
    "print(spcfuture)\n",
    "wait_for_node_finished(spcfuture)"
   ]
  },
  {
   "cell_type": "code",
   "execution_count": null,
   "id": "ac660250",
   "metadata": {},
   "outputs": [],
   "source": [
    "spcfuture.outputs.Tc"
   ]
  },
  {
   "cell_type": "code",
   "execution_count": null,
   "id": "f8e97e38",
   "metadata": {},
   "outputs": [],
   "source": [
    "def jij_to_dataframe(jijdata):\n",
    "    df = pd.DataFrame()\n",
    "    for key,value in jijdata.items():\n",
    "        df[key] = value\n",
    "    return df\n",
    "\n",
    "jijdata = spcfuture.outputs.Jij.get_dict()\n",
    "df = jij_to_dataframe(jijdata)\n",
    "display(df)\n",
    "df['distance'] = df['distance'].values.astype(float)\n",
    "df['J_ij(meV)'] = df['J_ij(meV)'].values.astype(float)\n",
    "df.plot(x='distance', y='J_ij(meV)')"
   ]
  },
  {
   "cell_type": "markdown",
   "id": "110ff106",
   "metadata": {},
   "source": [
    "# Tc"
   ]
  },
  {
   "cell_type": "code",
   "execution_count": null,
   "id": "26830029",
   "metadata": {},
   "outputs": [],
   "source": [
    "future = gofuture2nd\n",
    "potential = future.outputs.potential\n",
    "structure_data = future.outputs.structure\n"
   ]
  },
  {
   "cell_type": "code",
   "execution_count": null,
   "id": "4627615f",
   "metadata": {},
   "outputs": [],
   "source": [
    "code = load_code('akaikkr_tc_calcjob_localhost')\n",
    "\n",
    "builder = code.get_builder()\n",
    "builder.magtype = magtype\n",
    "builder.displc = DISPLC\n",
    "builder.structure = kkr_structure_param\n",
    "builder.parameters = kkr_param\n",
    "builder.potential = potential\n",
    "\n",
    "tcfuture = submit(builder)\n",
    "print(tcfuture)\n",
    "wait_for_node_finished(tcfuture)"
   ]
  },
  {
   "cell_type": "code",
   "execution_count": null,
   "id": "501136a5",
   "metadata": {},
   "outputs": [],
   "source": [
    "tcfuture.outputs.Tc"
   ]
  },
  {
   "cell_type": "markdown",
   "id": "a32c606e",
   "metadata": {},
   "source": [
    "# fspin\n"
   ]
  },
  {
   "cell_type": "raw",
   "id": "633f5f93",
   "metadata": {},
   "source": [
    "future = gofuture2nd\n",
    "potential = future.outputs.potential\n",
    "structure_data = future.outputs.structure\n"
   ]
  },
  {
   "cell_type": "code",
   "execution_count": null,
   "id": "a32cdc15",
   "metadata": {},
   "outputs": [],
   "source": [
    "@calcfunction\n",
    "def _Fe_fsm_params():\n",
    "    directory = \"dummy\"\n",
    "    job = AkaikkrJob(directory)\n",
    "    kkr_param = job.default\n",
    "    kkr_param[\"record\"] = \"init\"\n",
    "    kkr_param[\"magtyp\"] = \"mag\"\n",
    "    kkr_param[\"ewidth\"] = 2.0\n",
    "    kkr_param[\"pmix\"] = \"0.02ch\"\n",
    "    return Dict(dict=kkr_param)\n",
    "\n",
    "kkr_param = _Fe_fsm_params()\n",
    "kkr_param"
   ]
  },
  {
   "cell_type": "code",
   "execution_count": null,
   "id": "2d60aef4",
   "metadata": {
    "scrolled": false
   },
   "outputs": [],
   "source": [
    "code = load_code('akaikkr_fsm_calcjob_localhost')\n",
    "import numpy as np\n",
    "\n",
    "true = Bool(True)\n",
    "true.store()\n",
    "results = []\n",
    "for fspin in np.linspace(0.0, 3.0, 10):\n",
    "    kkr_param = kkr_param.get_dict()\n",
    "    if fspin==0.0:\n",
    "        kkr_param[\"record\"] = \"init\"\n",
    "        potential = Str(\"\")\n",
    "    else:\n",
    "        kkr_param[\"record\"] = \"2nd\"\n",
    "    kkr_param = Dict(dict=kkr_param)\n",
    "    builder = code.get_builder()\n",
    "    builder.magtype = magtype\n",
    "    builder.displc = DISPLC\n",
    "    builder.structure = kkr_structure_param\n",
    "    builder.parameters = kkr_param\n",
    "    builder.fspin = Float(fspin)\n",
    "    builder.retrieve_potential = true\n",
    "    print(\"potential\", potential)\n",
    "    builder.potential = potential\n",
    "\n",
    "    spcfuture = submit(builder)\n",
    "    print(spcfuture)\n",
    "    wait_for_node_finished(spcfuture, 3)\n",
    "    \n",
    "    m = spcfuture.outputs.results.get_dict()['total_moment']\n",
    "    e = spcfuture.outputs.results.get_dict()['total_energy']\n",
    "    c = spcfuture.outputs.results.get_dict()['convervence']\n",
    "    print([m,e,c])\n",
    "    results.append([m,e,c])\n",
    "    \n",
    "    potential = spcfuture.outputs.potential"
   ]
  },
  {
   "cell_type": "code",
   "execution_count": null,
   "id": "8c718d3e",
   "metadata": {},
   "outputs": [],
   "source": [
    "df = pd.DataFrame(results, columns=[\"fspin\",\"total_energy\",\"convergence\"])\n",
    "df.plot(x=\"fspin\", y=\"total_energy\")"
   ]
  },
  {
   "cell_type": "markdown",
   "id": "042e4241",
   "metadata": {},
   "source": [
    "# lmd"
   ]
  },
  {
   "cell_type": "code",
   "execution_count": null,
   "id": "4f491170",
   "metadata": {},
   "outputs": [],
   "source": [
    "import numpy as np\n",
    "def _Fe_lmd_structure_param(akaikkr_exe: Dict, displc: Bool, ciffilepath: Str):\n",
    "\n",
    "    use_bravais=True\n",
    "    remove_temperaryfiles=True\n",
    "    directory=\"temporary\"\n",
    "    \n",
    "    ciffilepath = ciffilepath.value\n",
    "    akaikkr_exe = akaikkr_exe.get_dict()\n",
    "    displc = displc.value\n",
    "    \n",
    "    param = get_kkr_struc_from_cif(\n",
    "        ciffilepath=ciffilepath, akaikkr_exe=akaikkr_exe[\"specx\"], displc=displc,\n",
    "        use_bravais=use_bravais, remove_temperaryfiles=remove_temperaryfiles,\n",
    "        directory=directory)\n",
    "\n",
    "    # param[\"a\"] = 5.27\n",
    "    param[\"magtyp\"] = \"lmd\"\n",
    "    param[\"rmt\"] = [1.0 for i in range(param[\"ntyp\"])]\n",
    "\n",
    "    # lmd must increase ncomp\n",
    "    ncmp = param[\"ncmp\"][0]\n",
    "    param[\"ncmp\"] = [ncmp*2]\n",
    "\n",
    "    # alloy isn't allowed now.\n",
    "    # extend sizes twice\n",
    "    anclr_list = []\n",
    "    for anclr in param[\"anclr\"]:\n",
    "        _x = anclr\n",
    "        if len(_x) != 1:\n",
    "            raise ValueError(\"Each anclr must be 1.\")\n",
    "        _x.extend(_x)\n",
    "        anclr_list.append(_x)\n",
    "    param[\"anclr\"] = anclr_list\n",
    "\n",
    "    conc_list = []\n",
    "    for conc in param[\"conc\"]:\n",
    "        conc = np.array(conc)\n",
    "        _x = conc*0.5\n",
    "        _x = _x.tolist()\n",
    "        if len(_x) != 1:\n",
    "            raise ValueError(\"Each conc must be 1.\")\n",
    "        _x.extend(_x)\n",
    "        conc_list.append(_x)\n",
    "    param[\"conc\"] = conc_list\n",
    "\n",
    "    if displc:\n",
    "        param[\"displc\"] = make_displc_list(param[\"anclr\"])    \n",
    "        \n",
    "    return Dict(dict=param)\n",
    "\n",
    "akaikkr_exe = {}\n",
    "akaikkr_exe[\"specx\"] = SPECX.value\n",
    "akaikkr_exe = Dict(dict=akaikkr_exe)\n",
    "kkr_structure_param = _Fe_lmd_structure_param(akaikkr_exe, DISPLC, CIFFILEPATH)\n",
    "kkr_structure_param.get_dict()\n"
   ]
  },
  {
   "cell_type": "code",
   "execution_count": null,
   "id": "c5f1232d",
   "metadata": {},
   "outputs": [],
   "source": [
    "@calcfunction\n",
    "def _Fe_lmd_params():\n",
    "    directory = \"dummy\"\n",
    "    job = AkaikkrJob(directory)\n",
    "    kkr_param = job.default\n",
    "    kkr_param[\"record\"] = \"init\"\n",
    "    kkr_param[\"ewidth\"] = 2.0\n",
    "    return Dict(dict=kkr_param)\n",
    "\n",
    "kkr_param = _Fe_lmd_params()"
   ]
  },
  {
   "cell_type": "code",
   "execution_count": null,
   "id": "13c8d1b8",
   "metadata": {
    "scrolled": false
   },
   "outputs": [],
   "source": [
    "code = load_code('akaikkr_go_calcjob_localhost')\n",
    "\n",
    "builder = code.get_builder()\n",
    "builder.go = Str(\"go\")\n",
    "builder.magtype = Str('lmd')\n",
    "builder.displc = DISPLC\n",
    "builder.structure = kkr_structure_param\n",
    "builder.parameters = kkr_param\n",
    "gofuture = submit(builder)\n",
    "print(gofuture)\n",
    "wait_for_node_finished(gofuture)"
   ]
  },
  {
   "cell_type": "code",
   "execution_count": null,
   "id": "62c8c2ef",
   "metadata": {
    "scrolled": false
   },
   "outputs": [],
   "source": [
    "gofuture.outputs.potential"
   ]
  },
  {
   "cell_type": "code",
   "execution_count": null,
   "id": "42cbf3a6",
   "metadata": {},
   "outputs": [],
   "source": []
  }
 ],
 "metadata": {
  "kernelspec": {
   "display_name": "py39",
   "language": "python",
   "name": "py39"
  },
  "language_info": {
   "codemirror_mode": {
    "name": "ipython",
    "version": 3
   },
   "file_extension": ".py",
   "mimetype": "text/x-python",
   "name": "python",
   "nbconvert_exporter": "python",
   "pygments_lexer": "ipython3",
   "version": "3.9.13"
  }
 },
 "nbformat": 4,
 "nbformat_minor": 5
}
